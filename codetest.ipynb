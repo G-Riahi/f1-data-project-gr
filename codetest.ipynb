{
 "cells": [
  {
   "cell_type": "markdown",
   "metadata": {},
   "source": [
    "# Importing the necessary libraries"
   ]
  },
  {
   "cell_type": "code",
   "execution_count": 1,
   "metadata": {},
   "outputs": [],
   "source": [
    "import yaml\n",
    "import os\n",
    "from pyspark.sql import SparkSession, Row\n",
    "from pyspark.sql.types import StructType, StructField, StringType\n",
    "import json"
   ]
  },
  {
   "cell_type": "markdown",
   "metadata": {},
   "source": [
    "# Transforming the drivers table:"
   ]
  },
  {
   "cell_type": "markdown",
   "metadata": {},
   "source": [
    "## getting all possible keys in all yaml files"
   ]
  },
  {
   "cell_type": "code",
   "execution_count": 2,
   "metadata": {},
   "outputs": [
    {
     "name": "stdout",
     "output_type": "stream",
     "text": [
      "there are 15 keys in drivers:\n",
      "['id', 'name', 'firstName', 'lastName', 'fullName', 'abbreviation', 'permanentNumber', 'gender', 'dateOfBirth', 'dateOfDeath', 'placeOfBirth', 'countryOfBirthCountryId', 'nationalityCountryId', 'secondNationalityCountryId', 'familyRelationships']\n"
     ]
    }
   ],
   "source": [
    "folder_path = \"/home/floppabox/f1/f1db/src/data/drivers\"\n",
    "max_length = 0\n",
    "keys = []\n",
    "for file_name in os.listdir(folder_path):\n",
    "    file_path = os.path.join(folder_path, file_name)\n",
    "    with open(file_path, 'r') as file:\n",
    "        data=yaml.safe_load(file)\n",
    "        if max_length<=len(list(data.keys())):\n",
    "            max_length = len(list(data.keys()))\n",
    "            keys = list(data.keys())\n",
    "\n",
    "print(f'there are {max_length} keys in drivers:')\n",
    "print(keys)\n"
   ]
  },
  {
   "cell_type": "code",
   "execution_count": 3,
   "metadata": {},
   "outputs": [
    {
     "name": "stderr",
     "output_type": "stream",
     "text": [
      "24/12/04 08:38:26 WARN Utils: Your hostname, Obuntu resolves to a loopback address: 127.0.1.1; using 10.0.2.15 instead (on interface enp0s3)\n",
      "24/12/04 08:38:27 WARN Utils: Set SPARK_LOCAL_IP if you need to bind to another address\n",
      "Setting default log level to \"WARN\".\n",
      "To adjust logging level use sc.setLogLevel(newLevel). For SparkR, use setLogLevel(newLevel).\n",
      "24/12/04 08:38:35 WARN NativeCodeLoader: Unable to load native-hadoop library for your platform... using builtin-java classes where applicable\n"
     ]
    }
   ],
   "source": [
    "spark = SparkSession.builder.appName(\"YAML to CSV\").getOrCreate()"
   ]
  },
  {
   "cell_type": "code",
   "execution_count": null,
   "metadata": {},
   "outputs": [],
   "source": [
    "data = []\n",
    "\n",
    "for file_name in os.listdir(folder_path):\n",
    "    file_path = os.path.join(folder_path, file_name)\n",
    "    with open(file_path, 'r') as file:\n",
    "        content_drivers=yaml.safe_load(file)\n",
    "        record ={}\n",
    "        for key in keys:\n",
    "            if key != 'familyRelationships':\n",
    "                record[key]= content_drivers.get(key)\n",
    "        data.append(record)\n",
    "\n",
    "print(data)\n"
   ]
  },
  {
   "cell_type": "code",
   "execution_count": 4,
   "metadata": {},
   "outputs": [
    {
     "name": "stdout",
     "output_type": "stream",
     "text": [
      "[{'driverId': 'pedro-rodriguez', 'relationId': 'ricardo-rodriguez', 'type': 'SIBLING'}, {'driverId': 'max-papis', 'relationId': 'emerson-fittipaldi', 'type': 'PARENT_IN_LAW'}, {'driverId': 'jimmy-stewart', 'relationId': 'jackie-stewart', 'type': 'SIBLING'}, {'driverId': 'jacques-villeneuve', 'relationId': 'jacques-villeneuve-sr', 'type': 'PARENTS_SIBLING'}, {'driverId': 'max-verstappen', 'relationId': 'jos-verstappen', 'type': 'PARENT'}, {'driverId': 'mario-andretti', 'relationId': 'michael-andretti', 'type': 'CHILD'}, {'driverId': 'eddie-russo', 'relationId': 'eddie-russo', 'type': 'PARENTS_SIBLING'}, {'driverId': 'jules-bianchi', 'relationId': 'lucien-bianchi', 'type': 'GRANDPARENTS_SIBLING'}, {'driverId': 'nico-rosberg', 'relationId': 'keke-rosberg', 'type': 'PARENT'}, {'driverId': 'ian-scheckter', 'relationId': 'jody-scheckter', 'type': 'SIBLING'}, {'driverId': 'dick-rathmann', 'relationId': 'jim-rathmann', 'type': 'SIBLING'}, {'driverId': 'christian-fittipaldi', 'relationId': 'pietro-fittipaldi', 'type': 'PARENTS_SIBLINGS_CHILD'}, {'driverId': 'ralf-schumacher', 'relationId': 'mick-schumacher', 'type': 'SIBLINGS_CHILD'}, {'driverId': 'peter-whitehead', 'relationId': 'graham-whitehead', 'type': 'HALF_SIBLING'}, {'driverId': 'jo-schlesser', 'relationId': 'jean-louis-schlesser', 'type': 'SIBLINGS_CHILD'}, {'driverId': 'jos-verstappen', 'relationId': 'max-verstappen', 'type': 'CHILD'}, {'driverId': 'nelson-piquet-jr', 'relationId': 'nelson-piquet', 'type': 'PARENT'}, {'driverId': 'jean-louis-schlesser', 'relationId': 'jo-schlesser', 'type': 'PARENTS_SIBLING'}, {'driverId': 'corrado-fabi', 'relationId': 'teo-fabi', 'type': 'SIBLING'}, {'driverId': 'ernesto-brambilla', 'relationId': 'vittorio-brambilla', 'type': 'SIBLING'}, {'driverId': 'nelson-piquet', 'relationId': 'nelson-piquet-jr', 'type': 'CHILD'}, {'driverId': 'vittorio-brambilla', 'relationId': 'ernesto-brambilla', 'type': 'SIBLING'}, {'driverId': 'jody-scheckter', 'relationId': 'ian-scheckter', 'type': 'SIBLING'}, {'driverId': 'lucien-bianchi', 'relationId': 'jules-bianchi', 'type': 'SIBLINGS_GRANDCHILD'}, {'driverId': 'michael-andretti', 'relationId': 'mario-andretti', 'type': 'PARENT'}, {'driverId': 'andre-pilette', 'relationId': 'teddy-pilette', 'type': 'CHILD'}, {'driverId': 'jacques-villeneuve-sr', 'relationId': 'jacques-villeneuve', 'type': 'SIBLINGS_CHILD'}, {'driverId': 'joachim-winkelhock', 'relationId': 'markus-winkelhock', 'type': 'SIBLINGS_CHILD'}, {'driverId': 'jackie-stewart', 'relationId': 'jimmy-stewart', 'type': 'SIBLING'}, {'driverId': 'hans-joachim-stuck', 'relationId': 'hans-stuck', 'type': 'PARENT'}, {'driverId': 'roy-nissany', 'relationId': 'chanoch-nissany', 'type': 'PARENT'}, {'driverId': 'ayrton-senna', 'relationId': 'bruno-senna', 'type': 'SIBLINGS_CHILD'}, {'driverId': 'emerson-fittipaldi', 'relationId': 'pietro-fittipaldi', 'type': 'GRANDCHILD'}, {'driverId': 'keke-rosberg', 'relationId': 'nico-rosberg', 'type': 'CHILD'}, {'driverId': 'jan-magnussen', 'relationId': 'kevin-magnussen', 'type': 'CHILD'}, {'driverId': 'chanoch-nissany', 'relationId': 'roy-nissany', 'type': 'CHILD'}, {'driverId': 'kevin-magnussen', 'relationId': 'jan-magnussen', 'type': 'PARENT'}, {'driverId': 'wilson-fittipaldi', 'relationId': 'max-papis', 'type': 'SIBLINGS_CHILD_IN_LAW'}, {'driverId': 'markus-winkelhock', 'relationId': 'joachim-winkelhock', 'type': 'PARENTS_SIBLING'}, {'driverId': 'jolyon-palmer', 'relationId': 'jonathan-palmer', 'type': 'PARENT'}, {'driverId': 'jonathan-palmer', 'relationId': 'jolyon-palmer', 'type': 'CHILD'}, {'driverId': 'teo-fabi', 'relationId': 'corrado-fabi', 'type': 'SIBLING'}, {'driverId': 'jim-rathmann', 'relationId': 'dick-rathmann', 'type': 'SIBLING'}, {'driverId': 'paul-russo', 'relationId': 'eddie-russo', 'type': 'SIBLINGS_CHILD'}, {'driverId': 'ricardo-rodriguez', 'relationId': 'pedro-rodriguez', 'type': 'SIBLING'}, {'driverId': 'pietro-fittipaldi', 'relationId': 'wilson-fittipaldi', 'type': 'GRANDPARENTS_SIBLING'}, {'driverId': 'teddy-pilette', 'relationId': 'andre-pilette', 'type': 'PARENT'}, {'driverId': 'kazuki-nakajima', 'relationId': 'satoru-nakajima', 'type': 'PARENT'}, {'driverId': 'graham-hill', 'relationId': 'damon-hill', 'type': 'CHILD'}, {'driverId': 'manfred-winkelhock', 'relationId': 'joachim-winkelhock', 'type': 'SIBLING'}, {'driverId': 'bruno-senna', 'relationId': 'ayrton-senna', 'type': 'PARENTS_SIBLING'}, {'driverId': 'satoru-nakajima', 'relationId': 'kazuki-nakajima', 'type': 'CHILD'}, {'driverId': 'mick-schumacher', 'relationId': 'ralf-schumacher', 'type': 'PARENTS_SIBLING'}, {'driverId': 'jack-brabham', 'relationId': 'david-brabham', 'type': 'CHILD'}, {'driverId': 'gilles-villeneuve', 'relationId': 'jacques-villeneuve-sr', 'type': 'SIBLING'}, {'driverId': 'gary-brabham', 'relationId': 'jack-brabham', 'type': 'PARENT'}, {'driverId': 'graham-whitehead', 'relationId': 'peter-whitehead', 'type': 'HALF_SIBLING'}, {'driverId': 'tim-parnell', 'relationId': 'reg-parnell', 'type': 'PARENT'}, {'driverId': 'hans-stuck', 'relationId': 'hans-joachim-stuck', 'type': 'CHILD'}, {'driverId': 'david-brabham', 'relationId': 'mike-thackwell', 'type': 'SIBLING_IN_LAW'}, {'driverId': 'reg-parnell', 'relationId': 'tim-parnell', 'type': 'CHILD'}, {'driverId': 'mike-thackwell', 'relationId': 'david-brabham', 'type': 'SIBLING_IN_LAW'}, {'driverId': 'michael-schumacher', 'relationId': 'ralf-schumacher', 'type': 'SIBLING'}, {'driverId': 'damon-hill', 'relationId': 'graham-hill', 'type': 'PARENT'}]\n"
     ]
    }
   ],
   "source": [
    "data = []\n",
    "\n",
    "for file_name in os.listdir(folder_path):\n",
    "    file_path = os.path.join(folder_path, file_name)\n",
    "    with open(file_path, 'r') as file:\n",
    "        content_drivers=yaml.safe_load(file)\n",
    "        record ={}\n",
    "\n",
    "        if 'familyRelationships' in content_drivers.keys():\n",
    "            for rel in content_drivers['familyRelationships']:\n",
    "                record['driverId']=content_drivers.get('id')\n",
    "                record['relationId']=rel.get('driverId')\n",
    "                record['type']=rel.get('type')\n",
    "            data.append(record)\n",
    "\n",
    "print(data)"
   ]
  },
  {
   "cell_type": "code",
   "execution_count": 5,
   "metadata": {},
   "outputs": [
    {
     "name": "stdout",
     "output_type": "stream",
     "text": [
      "root\n",
      " |-- driverId: string (nullable = true)\n",
      " |-- relationId: string (nullable = true)\n",
      " |-- type: string (nullable = true)\n",
      "\n"
     ]
    },
    {
     "name": "stderr",
     "output_type": "stream",
     "text": [
      "                                                                                \r"
     ]
    },
    {
     "data": {
      "text/plain": [
       "64"
      ]
     },
     "execution_count": 5,
     "metadata": {},
     "output_type": "execute_result"
    }
   ],
   "source": [
    "dataframe = spark.createDataFrame(data)\n",
    "\n",
    "dataframe.printSchema()\n",
    "dataframe.count()"
   ]
  }
 ],
 "metadata": {
  "kernelspec": {
   "display_name": "data",
   "language": "python",
   "name": "python3"
  },
  "language_info": {
   "codemirror_mode": {
    "name": "ipython",
    "version": 3
   },
   "file_extension": ".py",
   "mimetype": "text/x-python",
   "name": "python",
   "nbconvert_exporter": "python",
   "pygments_lexer": "ipython3",
   "version": "3.12.3"
  }
 },
 "nbformat": 4,
 "nbformat_minor": 2
}
