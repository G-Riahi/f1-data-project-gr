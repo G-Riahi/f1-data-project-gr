{
 "cells": [
  {
   "cell_type": "markdown",
   "metadata": {},
   "source": [
    "# Importing the necessary libraries"
   ]
  },
  {
   "cell_type": "code",
   "execution_count": null,
   "metadata": {},
   "outputs": [],
   "source": [
    "import yaml\n",
    "import os\n",
    "from pyspark.sql import SparkSession, Row\n",
    "from pyspark.sql.types import StructType, StructField, StringType\n",
    "import json"
   ]
  },
  {
   "cell_type": "markdown",
   "metadata": {},
   "source": [
    "# Transforming the drivers table:"
   ]
  },
  {
   "cell_type": "markdown",
   "metadata": {},
   "source": [
    "## getting all possible keys in all yaml files"
   ]
  },
  {
   "cell_type": "code",
   "execution_count": null,
   "metadata": {},
   "outputs": [],
   "source": [
    "folder_path = \"/home/floppabox/f1/f1db/src/data/drivers\"\n",
    "max_length = 0\n",
    "keys = []\n",
    "for file_name in os.listdir(folder_path):\n",
    "    file_path = os.path.join(folder_path, file_name)\n",
    "    with open(file_path, 'r') as file:\n",
    "        data=yaml.safe_load(file)\n",
    "        if max_length<=len(list(data.keys())):\n",
    "            max_length = len(list(data.keys()))\n",
    "            keys = list(data.keys())\n",
    "\n",
    "print(f'there are {max_length} keys in drivers:')\n",
    "print(keys)\n"
   ]
  },
  {
   "cell_type": "code",
   "execution_count": null,
   "metadata": {},
   "outputs": [],
   "source": [
    "spark = SparkSession.builder.appName(\"YAML to CSV\").getOrCreate()\n"
   ]
  },
  {
   "cell_type": "code",
   "execution_count": null,
   "metadata": {},
   "outputs": [],
   "source": [
    "drivers_data, drivers_relationships_data = [], []\n",
    "\n",
    "# Extracting all drivers data\n",
    "\n",
    "for file_name in os.listdir(folder_path):\n",
    "    file_path = os.path.join(folder_path, file_name)\n",
    "\n",
    "    with open(file_path, 'r') as file:\n",
    "        content_drivers=yaml.safe_load(file)\n",
    "        record ={}\n",
    "\n",
    "        for key in keys:\n",
    "            if key != 'familyRelationships':\n",
    "                record[key]= content_drivers.get(key)\n",
    "\n",
    "        print(record)\n",
    "        drivers_data.append(record)\n"
   ]
  },
  {
   "cell_type": "code",
   "execution_count": null,
   "metadata": {},
   "outputs": [],
   "source": [
    "\n",
    "id=0\n",
    "for file_name in os.listdir(folder_path):\n",
    "    file_path = os.path.join(folder_path, file_name)\n",
    "    with open(file_path, 'r') as file:\n",
    "        content_drivers=yaml.safe_load(file)\n",
    "        \n",
    "        if 'familyRelationships' in content_drivers.keys():\n",
    "            for rel in content_drivers['familyRelationships']:\n",
    "                record ={}\n",
    "                record['id']=id\n",
    "                id=id+1\n",
    "                record['driverId']=content_drivers.get('id')\n",
    "                record['relationId']=rel.get('driverId')\n",
    "                record['type']=rel.get('type')\n",
    "                drivers_relationships_data.append(record)\n",
    "\n",
    "\n"
   ]
  },
  {
   "cell_type": "code",
   "execution_count": null,
   "metadata": {},
   "outputs": [],
   "source": [
    "real_keys= [x for x in keys if x != 'familyRelationships']\n",
    "\n",
    "drivers= spark.createDataFrame(drivers_data).select(real_keys)\n",
    "\n",
    "drivers_relationships = spark.createDataFrame(drivers_relationships_data).select(['id','driverId', 'relationId', 'type'])\n",
    "\n",
    "drivers_relationships.show()"
   ]
  }
 ],
 "metadata": {
  "kernelspec": {
   "display_name": "data",
   "language": "python",
   "name": "python3"
  },
  "language_info": {
   "codemirror_mode": {
    "name": "ipython",
    "version": 3
   },
   "file_extension": ".py",
   "mimetype": "text/x-python",
   "name": "python",
   "nbconvert_exporter": "python",
   "pygments_lexer": "ipython3",
   "version": "3.12.3"
  }
 },
 "nbformat": 4,
 "nbformat_minor": 2
}
